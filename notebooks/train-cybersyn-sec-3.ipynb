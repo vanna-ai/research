{
 "cells": [
  {
   "cell_type": "code",
   "execution_count": null,
   "id": "5da56dd2-1a2b-4a9c-8dfa-4a78799d155c",
   "metadata": {},
   "outputs": [],
   "source": [
    "%pip install 'vanna[snowflake]'"
   ]
  },
  {
   "cell_type": "code",
   "execution_count": 2,
   "id": "f2c4cabe-468f-4b3b-86f9-2f5701459e1a",
   "metadata": {},
   "outputs": [],
   "source": [
    "import vanna as vn\n",
    "import os"
   ]
  },
  {
   "cell_type": "code",
   "execution_count": 3,
   "id": "80bbd38f-a1c9-4907-8f2d-1c26a437d47c",
   "metadata": {},
   "outputs": [
    {
     "data": {
      "text/plain": [
       "True"
      ]
     },
     "execution_count": 3,
     "metadata": {},
     "output_type": "execute_result"
    }
   ],
   "source": [
    "from dotenv import load_dotenv\n",
    "load_dotenv()"
   ]
  },
  {
   "cell_type": "code",
   "execution_count": 4,
   "id": "487328a6-5030-444b-8d3f-e2e229941306",
   "metadata": {},
   "outputs": [],
   "source": [
    "vn.set_api_key(os.environ['VANNA_API_KEY'])"
   ]
  },
  {
   "attachments": {},
   "cell_type": "markdown",
   "id": "7ce9f090",
   "metadata": {},
   "source": [
    "## Vanna Model\n",
    "This is the container that will contain the table information and the training queries"
   ]
  },
  {
   "cell_type": "code",
   "execution_count": 5,
   "id": "067157aa-b71a-49e0-a9ef-b311df694772",
   "metadata": {},
   "outputs": [
    {
     "name": "stdout",
     "output_type": "stream",
     "text": [
      "Would you like to create model 'cybersyn-sec-3'? (y/n):  y\n",
      "What type of database would you like to use? (Snowflake, BigQuery, Postgres, etc.):  Snowflake\n"
     ]
    }
   ],
   "source": [
    "vn.set_model('cybersyn-sec-3')"
   ]
  },
  {
   "attachments": {},
   "cell_type": "markdown",
   "id": "07640bfb",
   "metadata": {},
   "source": [
    "## Snowflake Connection\n",
    "This is a convenience wrapper that just allows you to later do `vn.run_sql` that takes in a SQL string and returns a dataframe."
   ]
  },
  {
   "cell_type": "code",
   "execution_count": null,
   "id": "5fa8a444-c02f-4946-a687-4dd8d3368aa1",
   "metadata": {},
   "outputs": [],
   "source": [
    "vn.connect_to_snowflake(os.environ['SNOWFLAKE_ACCOUNT'], os.environ['SNOWFLAKE_USER'], os.environ['SNOWFLAKE_PASSWORD'], 'CYBERSYN_SEC_COMPANY_FILINGS')"
   ]
  },
  {
   "attachments": {},
   "cell_type": "markdown",
   "id": "f325bcaf",
   "metadata": {},
   "source": [
    "## Get the column information from information schema\n",
    "We're only using tables columns that are relevant for this dataset."
   ]
  },
  {
   "cell_type": "code",
   "execution_count": 7,
   "id": "98a3ceed-e275-47fd-b8d8-6f9525ca1dc2",
   "metadata": {},
   "outputs": [],
   "source": [
    "information_schema = vn.run_sql(\"\"\"\n",
    "SELECT *\n",
    "FROM INFORMATION_SCHEMA.COLUMNS\n",
    "WHERE TABLE_NAME = 'GEOGRAPHY_INDEX' OR TABLE_NAME like 'SEC%'\n",
    "\"\"\")"
   ]
  },
  {
   "attachments": {},
   "cell_type": "markdown",
   "id": "b3706541",
   "metadata": {},
   "source": [
    "## Training Plan\n",
    "This just converts the information schema information into chunks that can be stored in the Vanna model to later be passed to the LLM."
   ]
  },
  {
   "cell_type": "code",
   "execution_count": 8,
   "id": "37da7b25-d853-4085-94b8-50194b68628b",
   "metadata": {},
   "outputs": [
    {
     "data": {
      "text/plain": [
       "Train on Information Schema: CYBERSYN_SEC_COMPANY_FILINGS.CYBERSYN SEC_REPORT_INDEX\n",
       "Train on Information Schema: CYBERSYN_SEC_COMPANY_FILINGS.CYBERSYN SEC_REPORT_ATTRIBUTES\n",
       "Train on Information Schema: CYBERSYN_SEC_COMPANY_FILINGS.CYBERSYN SEC_CIK_INDEX\n",
       "Train on Information Schema: CYBERSYN_SEC_COMPANY_FILINGS.CYBERSYN GEOGRAPHY_INDEX\n",
       "Train on Information Schema: CYBERSYN_SEC_COMPANY_FILINGS.CYBERSYN SEC_FISCAL_CALENDARS\n",
       "Train on Information Schema: CYBERSYN_SEC_COMPANY_FILINGS.CYBERSYN SEC_REPORT_TEXT_ATTRIBUTES"
      ]
     },
     "execution_count": 8,
     "metadata": {},
     "output_type": "execute_result"
    }
   ],
   "source": [
    "training_plan = vn.get_training_plan_generic(information_schema)\n",
    "training_plan"
   ]
  },
  {
   "attachments": {},
   "cell_type": "markdown",
   "id": "30b6c9f7",
   "metadata": {},
   "source": [
    "## Train\n",
    "This actually adds the training data to the Vanna model"
   ]
  },
  {
   "cell_type": "code",
   "execution_count": 9,
   "id": "9836500b-d1ea-4a57-b4c0-ea0b4c79de24",
   "metadata": {},
   "outputs": [],
   "source": [
    "vn.train(plan=training_plan)"
   ]
  },
  {
   "attachments": {},
   "cell_type": "markdown",
   "id": "196d9d92",
   "metadata": {},
   "source": [
    "## Get Training Data\n",
    "Here we're just verifying that the training data made it into the Vanna model for later retrieval"
   ]
  },
  {
   "cell_type": "code",
   "execution_count": 10,
   "id": "ec117bbb-4a01-4d7e-87f4-705bf2d5486a",
   "metadata": {},
   "outputs": [
    {
     "data": {
      "text/html": [
       "<div>\n",
       "<style scoped>\n",
       "    .dataframe tbody tr th:only-of-type {\n",
       "        vertical-align: middle;\n",
       "    }\n",
       "\n",
       "    .dataframe tbody tr th {\n",
       "        vertical-align: top;\n",
       "    }\n",
       "\n",
       "    .dataframe thead th {\n",
       "        text-align: right;\n",
       "    }\n",
       "</style>\n",
       "<table border=\"1\" class=\"dataframe\">\n",
       "  <thead>\n",
       "    <tr style=\"text-align: right;\">\n",
       "      <th></th>\n",
       "      <th>id</th>\n",
       "      <th>training_data_type</th>\n",
       "      <th>question</th>\n",
       "      <th>content</th>\n",
       "    </tr>\n",
       "  </thead>\n",
       "  <tbody>\n",
       "    <tr>\n",
       "      <th>0</th>\n",
       "      <td>158-doc</td>\n",
       "      <td>documentation</td>\n",
       "      <td>NaN</td>\n",
       "      <td>The following columns are in the SEC_CIK_INDEX...</td>\n",
       "    </tr>\n",
       "    <tr>\n",
       "      <th>1</th>\n",
       "      <td>161-doc</td>\n",
       "      <td>documentation</td>\n",
       "      <td>NaN</td>\n",
       "      <td>The following columns are in the SEC_REPORT_TE...</td>\n",
       "    </tr>\n",
       "    <tr>\n",
       "      <th>2</th>\n",
       "      <td>157-doc</td>\n",
       "      <td>documentation</td>\n",
       "      <td>NaN</td>\n",
       "      <td>The following columns are in the SEC_REPORT_AT...</td>\n",
       "    </tr>\n",
       "    <tr>\n",
       "      <th>3</th>\n",
       "      <td>160-doc</td>\n",
       "      <td>documentation</td>\n",
       "      <td>NaN</td>\n",
       "      <td>The following columns are in the SEC_FISCAL_CA...</td>\n",
       "    </tr>\n",
       "    <tr>\n",
       "      <th>4</th>\n",
       "      <td>159-doc</td>\n",
       "      <td>documentation</td>\n",
       "      <td>NaN</td>\n",
       "      <td>The following columns are in the GEOGRAPHY_IND...</td>\n",
       "    </tr>\n",
       "    <tr>\n",
       "      <th>5</th>\n",
       "      <td>156-doc</td>\n",
       "      <td>documentation</td>\n",
       "      <td>NaN</td>\n",
       "      <td>The following columns are in the SEC_REPORT_IN...</td>\n",
       "    </tr>\n",
       "  </tbody>\n",
       "</table>\n",
       "</div>"
      ],
      "text/plain": [
       "        id training_data_type  question  \\\n",
       "0  158-doc      documentation       NaN   \n",
       "1  161-doc      documentation       NaN   \n",
       "2  157-doc      documentation       NaN   \n",
       "3  160-doc      documentation       NaN   \n",
       "4  159-doc      documentation       NaN   \n",
       "5  156-doc      documentation       NaN   \n",
       "\n",
       "                                             content  \n",
       "0  The following columns are in the SEC_CIK_INDEX...  \n",
       "1  The following columns are in the SEC_REPORT_TE...  \n",
       "2  The following columns are in the SEC_REPORT_AT...  \n",
       "3  The following columns are in the SEC_FISCAL_CA...  \n",
       "4  The following columns are in the GEOGRAPHY_IND...  \n",
       "5  The following columns are in the SEC_REPORT_IN...  "
      ]
     },
     "execution_count": 10,
     "metadata": {},
     "output_type": "execute_result"
    }
   ],
   "source": [
    "vn.get_training_data()"
   ]
  },
  {
   "attachments": {},
   "cell_type": "markdown",
   "id": "06770b3c",
   "metadata": {},
   "source": [
    "## Verify that the Example SQL Runs\n",
    "Here we're just verifying that the example SQL runs."
   ]
  },
  {
   "cell_type": "code",
   "execution_count": 11,
   "id": "a2c33925-352f-4d0f-b392-4442237c3d82",
   "metadata": {},
   "outputs": [
    {
     "data": {
      "text/html": [
       "<div>\n",
       "<style scoped>\n",
       "    .dataframe tbody tr th:only-of-type {\n",
       "        vertical-align: middle;\n",
       "    }\n",
       "\n",
       "    .dataframe tbody tr th {\n",
       "        vertical-align: top;\n",
       "    }\n",
       "\n",
       "    .dataframe thead th {\n",
       "        text-align: right;\n",
       "    }\n",
       "</style>\n",
       "<table border=\"1\" class=\"dataframe\">\n",
       "  <thead>\n",
       "    <tr style=\"text-align: right;\">\n",
       "      <th></th>\n",
       "      <th>CIK</th>\n",
       "      <th>COMPANY_NAME</th>\n",
       "      <th>PERIOD_START_DATE</th>\n",
       "      <th>PERIOD_END_DATE</th>\n",
       "      <th>MEASURE_DESCRIPTION</th>\n",
       "      <th>VALUE</th>\n",
       "    </tr>\n",
       "  </thead>\n",
       "  <tbody>\n",
       "    <tr>\n",
       "      <th>0</th>\n",
       "      <td>0001362468</td>\n",
       "      <td>ALLEGIANT TRAVEL CO</td>\n",
       "      <td>2022-01-01</td>\n",
       "      <td>2022-12-31</td>\n",
       "      <td>Total operating revenues</td>\n",
       "      <td>2301829000</td>\n",
       "    </tr>\n",
       "    <tr>\n",
       "      <th>1</th>\n",
       "      <td>0000006201</td>\n",
       "      <td>AMERICAN AIRLINES GROUP INC.</td>\n",
       "      <td>2022-01-01</td>\n",
       "      <td>2022-12-31</td>\n",
       "      <td>Total operating revenues</td>\n",
       "      <td>48971000000</td>\n",
       "    </tr>\n",
       "    <tr>\n",
       "      <th>2</th>\n",
       "      <td>0001498710</td>\n",
       "      <td>SPIRIT AIRLINES, INC.</td>\n",
       "      <td>2022-01-01</td>\n",
       "      <td>2022-12-31</td>\n",
       "      <td>Total operating revenues</td>\n",
       "      <td>5068447000</td>\n",
       "    </tr>\n",
       "    <tr>\n",
       "      <th>3</th>\n",
       "      <td>0000100517</td>\n",
       "      <td>UNITED AIRLINES HOLDINGS, INC.</td>\n",
       "      <td>2022-01-01</td>\n",
       "      <td>2022-12-31</td>\n",
       "      <td>Total operating revenue</td>\n",
       "      <td>44955000000</td>\n",
       "    </tr>\n",
       "    <tr>\n",
       "      <th>4</th>\n",
       "      <td>0000027904</td>\n",
       "      <td>DELTA AIR LINES, INC.</td>\n",
       "      <td>2022-01-01</td>\n",
       "      <td>2022-12-31</td>\n",
       "      <td>Total operating revenue</td>\n",
       "      <td>50582000000</td>\n",
       "    </tr>\n",
       "    <tr>\n",
       "      <th>5</th>\n",
       "      <td>0000793733</td>\n",
       "      <td>SKYWEST INC</td>\n",
       "      <td>2022-01-01</td>\n",
       "      <td>2022-12-31</td>\n",
       "      <td>Total operating revenues</td>\n",
       "      <td>3004925000</td>\n",
       "    </tr>\n",
       "    <tr>\n",
       "      <th>6</th>\n",
       "      <td>0001670076</td>\n",
       "      <td>FRONTIER GROUP HOLDINGS, INC.</td>\n",
       "      <td>2022-01-01</td>\n",
       "      <td>2022-12-31</td>\n",
       "      <td>Total operating revenues</td>\n",
       "      <td>3326000000</td>\n",
       "    </tr>\n",
       "    <tr>\n",
       "      <th>7</th>\n",
       "      <td>0000092380</td>\n",
       "      <td>SOUTHWEST AIRLINES CO</td>\n",
       "      <td>2022-01-01</td>\n",
       "      <td>2022-12-31</td>\n",
       "      <td>Total operating revenues</td>\n",
       "      <td>23814000000</td>\n",
       "    </tr>\n",
       "  </tbody>\n",
       "</table>\n",
       "</div>"
      ],
      "text/plain": [
       "          CIK                    COMPANY_NAME PERIOD_START_DATE  \\\n",
       "0  0001362468             ALLEGIANT TRAVEL CO        2022-01-01   \n",
       "1  0000006201    AMERICAN AIRLINES GROUP INC.        2022-01-01   \n",
       "2  0001498710           SPIRIT AIRLINES, INC.        2022-01-01   \n",
       "3  0000100517  UNITED AIRLINES HOLDINGS, INC.        2022-01-01   \n",
       "4  0000027904           DELTA AIR LINES, INC.        2022-01-01   \n",
       "5  0000793733                     SKYWEST INC        2022-01-01   \n",
       "6  0001670076   FRONTIER GROUP HOLDINGS, INC.        2022-01-01   \n",
       "7  0000092380           SOUTHWEST AIRLINES CO        2022-01-01   \n",
       "\n",
       "  PERIOD_END_DATE       MEASURE_DESCRIPTION        VALUE  \n",
       "0      2022-12-31  Total operating revenues   2301829000  \n",
       "1      2022-12-31  Total operating revenues  48971000000  \n",
       "2      2022-12-31  Total operating revenues   5068447000  \n",
       "3      2022-12-31   Total operating revenue  44955000000  \n",
       "4      2022-12-31   Total operating revenue  50582000000  \n",
       "5      2022-12-31  Total operating revenues   3004925000  \n",
       "6      2022-12-31  Total operating revenues   3326000000  \n",
       "7      2022-12-31  Total operating revenues  23814000000  "
      ]
     },
     "execution_count": 11,
     "metadata": {},
     "output_type": "execute_result"
    }
   ],
   "source": [
    "vn.run_sql(\"\"\"\n",
    "SELECT i.cik, i.company_name, r.period_start_date, r.period_end_date, r.measure_description, TO_NUMERIC(r.value) AS value\n",
    "FROM cybersyn.sec_cik_index AS i\n",
    "JOIN cybersyn.sec_report_attributes AS r ON (r.cik = i.cik)\n",
    "WHERE i.sic_code_description = 'AIR TRANSPORTATION, SCHEDULED'\n",
    "  AND r.statement = 'Income Statement'\n",
    "  AND r.period_end_date = '2022-12-31'\n",
    "  AND r.covered_qtrs = 4\n",
    "  AND r.metadata IS NULL\n",
    "  AND r.measure_description IN ('Total operating revenues', 'Total operating revenue');\n",
    "\"\"\")"
   ]
  },
  {
   "attachments": {},
   "cell_type": "markdown",
   "id": "e90cccee",
   "metadata": {},
   "source": [
    "## Training with Question to SQL Pairs\n",
    "These 3 SQL statements were provided by the data provider in their documentation. We will use these to train our Vanna model."
   ]
  },
  {
   "cell_type": "code",
   "execution_count": 12,
   "id": "77c06943-425e-498e-a0e5-1f4a77d94a8a",
   "metadata": {},
   "outputs": [
    {
     "data": {
      "text/plain": [
       "True"
      ]
     },
     "execution_count": 12,
     "metadata": {},
     "output_type": "execute_result"
    }
   ],
   "source": [
    "vn.train(question=\"Compare revenue numbers from for 2022 for different airline companies\", sql=\"\"\"\n",
    "SELECT i.cik, i.company_name, r.period_start_date, r.period_end_date, r.measure_description, TO_NUMERIC(r.value) AS value\n",
    "FROM cybersyn.sec_cik_index AS i\n",
    "JOIN cybersyn.sec_report_attributes AS r ON (r.cik = i.cik)\n",
    "WHERE i.sic_code_description = 'AIR TRANSPORTATION, SCHEDULED'\n",
    "  AND r.statement = 'Income Statement'\n",
    "  AND r.period_end_date = '2022-12-31'\n",
    "  AND r.covered_qtrs = 4\n",
    "  AND r.metadata IS NULL\n",
    "  AND r.measure_description IN ('Total operating revenues', 'Total operating revenue');\n",
    "\"\"\")"
   ]
  },
  {
   "cell_type": "code",
   "execution_count": 13,
   "id": "f807e1d8-437f-4554-b60e-46538768a0b3",
   "metadata": {},
   "outputs": [
    {
     "data": {
      "text/plain": [
       "True"
      ]
     },
     "execution_count": 13,
     "metadata": {},
     "output_type": "execute_result"
    }
   ],
   "source": [
    "vn.train(question=\"Measure Chipotle's store count growth over time\", sql=\"\"\"\n",
    "SELECT i.cik, i.company_name, r.period_end_date, r.measure_description, MAX(TO_NUMBER(r.value)) AS value\n",
    "FROM cybersyn.sec_cik_index AS i\n",
    "JOIN cybersyn.sec_report_attributes AS r ON (r.cik = i.cik)\n",
    "WHERE company_name = 'CHIPOTLE MEXICAN GRILL INC'\n",
    "AND r.measure_description = 'Number of restaurants'\n",
    "GROUP BY i.cik, i.company_name, i.cik, r.period_end_date, r.measure_description;\n",
    "\"\"\")"
   ]
  },
  {
   "cell_type": "code",
   "execution_count": 14,
   "id": "d1512146-a1b1-4275-bf5e-fad6b7700a9d",
   "metadata": {},
   "outputs": [
    {
     "data": {
      "text/plain": [
       "True"
      ]
     },
     "execution_count": 14,
     "metadata": {},
     "output_type": "execute_result"
    }
   ],
   "source": [
    "vn.train(question=\"Pull Walmart's fiscal calendar does not align with the calendar year. Pull their quarter start and end dates.\", sql=\"\"\"\n",
    "SELECT company_name, fiscal_year, fiscal_period, period_start_date, period_end_date\n",
    "FROM cybersyn.sec_fiscal_calendars\n",
    "WHERE company_name = 'WALMART INC.'\n",
    "ORDER BY period_end_date;\n",
    "\"\"\")"
   ]
  },
  {
   "cell_type": "code",
   "execution_count": null,
   "id": "a9d70413-e64e-4438-a113-1c7eba1fd738",
   "metadata": {},
   "outputs": [],
   "source": []
  }
 ],
 "metadata": {
  "kernelspec": {
   "display_name": "Python 3 (ipykernel)",
   "language": "python",
   "name": "python3"
  },
  "language_info": {
   "codemirror_mode": {
    "name": "ipython",
    "version": 3
   },
   "file_extension": ".py",
   "mimetype": "text/x-python",
   "name": "python",
   "nbconvert_exporter": "python",
   "pygments_lexer": "ipython3",
   "version": "3.11.2"
  }
 },
 "nbformat": 4,
 "nbformat_minor": 5
}
