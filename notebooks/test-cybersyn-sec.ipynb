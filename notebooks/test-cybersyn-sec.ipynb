{
 "cells": [
  {
   "cell_type": "code",
   "execution_count": null,
   "id": "b507b15b",
   "metadata": {},
   "outputs": [],
   "source": [
    "%pip install 'git+https://github.com/vanna-ai/vanna@main#egg=vanna[snowflake]'"
   ]
  },
  {
   "cell_type": "code",
   "execution_count": null,
   "id": "46a0028b-ca88-4c27-a0c6-da31a4ace44f",
   "metadata": {},
   "outputs": [],
   "source": [
    "import os\n",
    "import prompt\n",
    "import ai\n",
    "from typing import Dict, List\n",
    "from dotenv import load_dotenv\n",
    "import pandas as pd\n",
    "import vanna as vn\n",
    "import time\n",
    "load_dotenv()"
   ]
  },
  {
   "cell_type": "code",
   "execution_count": null,
   "id": "7256d576-67a2-4080-a42c-6b42dc6e780d",
   "metadata": {},
   "outputs": [],
   "source": [
    "questions_df = pd.read_csv(\"../data/questions_sec.csv\")\n",
    "questions_df = questions_df.reset_index()\n",
    "questions_df = questions_df.rename({'index': 'question_order'}, axis=1)"
   ]
  },
  {
   "cell_type": "code",
   "execution_count": null,
   "id": "f3c26358-5a9b-479d-8b92-94d31363a2a1",
   "metadata": {},
   "outputs": [],
   "source": [
    "len(questions_df)"
   ]
  },
  {
   "cell_type": "code",
   "execution_count": null,
   "id": "a650f562-ec37-469c-afef-01d43946858c",
   "metadata": {},
   "outputs": [],
   "source": [
    "vn.set_api_key(os.environ['VANNA_API_KEY'])\n",
    "vn.connect_to_snowflake(os.environ['SNOWFLAKE_ACCOUNT'], os.environ['SNOWFLAKE_USER'], os.environ['SNOWFLAKE_PASSWORD'], os.environ['SNOWFLAKE_DATABASE'])"
   ]
  },
  {
   "cell_type": "code",
   "execution_count": null,
   "id": "cd7b6503-e0bb-49cf-868e-af7192a36015",
   "metadata": {},
   "outputs": [],
   "source": [
    "vanna_models = ['cybersyn-sec-0', 'cybersyn-sec-3', 'cybersyn-sec-100']\n",
    "#foundational_models = ['gpt-3.5-turbo', 'gpt-4', 'code-bison@001', 'llama-2-70b-chat']\n",
    "foundational_models =['gpt-3.5-turbo', 'gpt-4', 'code-bison@001']\n",
    "\n",
    "evaluation_data = []\n",
    "\n",
    "for vanna_model in vanna_models:\n",
    "    vn.set_model(vanna_model)\n",
    "    \n",
    "    for _, row in questions_df.iterrows():\n",
    "      for model in foundational_models: \n",
    "          question = row['question']\n",
    "          print(f\"{model} + {vanna_model}: {question}\")\n",
    "          related = vn.get_related_training_data(question)\n",
    "          \n",
    "          try:\n",
    "              if model in ['gpt-3.5-turbo', 'gpt-4']:\n",
    "                  message_log = prompt.get_message_log_prompt(16000, question, related.ddl, related.documentation, related.questions)\n",
    "                  sql = ai.send_to_openai_chat(model, message_log)\n",
    "              elif model == 'code-bison@001':\n",
    "                  message = prompt.get_single_message_prompt(16000, question, related.ddl, related.documentation, related.questions)\n",
    "                  sql = ai.send_to_vertexai(message)\n",
    "              elif model == 'llama-2-70b-chat':\n",
    "                  message = prompt.get_single_message_prompt(9000, question, related.ddl, related.documentation, related.questions)\n",
    "                  sql = ai.send_to_replicate(message)\n",
    "        \n",
    "              try:\n",
    "                df = vn.run_sql(sql)\n",
    "                error = None\n",
    "              except Exception as e:\n",
    "                df = None\n",
    "                error = str(e)\n",
    "          except Exception as e:\n",
    "              sql = None\n",
    "              print(e)\n",
    "              df = None\n",
    "              error = str(e)\n",
    "\n",
    "          print(sql)\n",
    "          \n",
    "          evaluation_data.append({\n",
    "              \"question_order\": row['question_order'],\n",
    "              \"question\": question,\n",
    "              \"parameter_description\": f\"{model} + {vanna_model}\",\n",
    "              \"foundational_model\": model,\n",
    "              \"vanna_model\": vanna_model,\n",
    "              \"sql\": sql,\n",
    "              \"df_str\": str(df),\n",
    "              \"error\": error\n",
    "          })\n",
    "      time.sleep(5)"
   ]
  },
  {
   "cell_type": "code",
   "execution_count": null,
   "id": "b4cc09d4-4652-45a4-8d2f-3e1cb4825db8",
   "metadata": {},
   "outputs": [],
   "source": [
    "df = pd.DataFrame(evaluation_data).sort_values(['question_order', 'vanna_model', 'foundational_model'])\n",
    "df.to_csv(\"../data/sec_evaluation_data.csv\")\n",
    "df"
   ]
  }
 ],
 "metadata": {
  "kernelspec": {
   "display_name": "Python 3 (ipykernel)",
   "language": "python",
   "name": "python3"
  },
  "language_info": {
   "codemirror_mode": {
    "name": "ipython",
    "version": 3
   },
   "file_extension": ".py",
   "mimetype": "text/x-python",
   "name": "python",
   "nbconvert_exporter": "python",
   "pygments_lexer": "ipython3",
   "version": "3.11.2"
  }
 },
 "nbformat": 4,
 "nbformat_minor": 5
}
